{
 "cells": [
  {
   "cell_type": "markdown",
   "metadata": {},
   "source": [
    "# Predicting PewDiePie's Subscribers (Linear Regression)\n",
    "*Author: Alex Scott*\n",
    "\n",
    "Here I am following along with Tanu Nanda Prabhu's example, which can be found at https://github.com/Tanu-N-Prabhu/Python/blob/master/Predicting_PewDiePie's_daily_subscribers_using_Machine_Learning_.ipynb"
   ]
  },
  {
   "cell_type": "code",
   "execution_count": 124,
   "metadata": {},
   "outputs": [],
   "source": [
    "%matplotlib inline\n",
    "import matplotlib.pyplot as plt\n",
    "import numpy as np\n",
    "import pandas as pd\n",
    "from sklearn.linear_model import LinearRegression\n",
    "from sklearn.model_selection import train_test_split\n",
    "import warnings\n",
    "warnings.filterwarnings('ignore')"
   ]
  },
  {
   "cell_type": "code",
   "execution_count": 8,
   "metadata": {},
   "outputs": [
    {
     "name": "stdout",
     "output_type": "stream",
     "text": [
      "<class 'pandas.core.frame.DataFrame'>\n",
      "RangeIndex: 20 entries, 0 to 19\n",
      "Data columns (total 2 columns):\n",
      " #   Column       Non-Null Count  Dtype\n",
      "---  ------       --------------  -----\n",
      " 0   Date         20 non-null     int64\n",
      " 1   Subscribers  20 non-null     int64\n",
      "dtypes: int64(2)\n",
      "memory usage: 448.0 bytes\n",
      "None\n",
      "   Date  Subscribers\n",
      "0     1        71915\n",
      "1     2        48270\n",
      "2     3        47746\n",
      "3     4        42276\n",
      "4     5        36867\n",
      "5     6        28722\n",
      "6     7        29794\n",
      "7     8        33125\n",
      "8     9        27877\n",
      "9    10        30675\n"
     ]
    }
   ],
   "source": [
    "df = pd.read_csv('PewDiePie.csv')\n",
    "print(df.info())\n",
    "print(df.head(10))"
   ]
  },
  {
   "cell_type": "markdown",
   "metadata": {},
   "source": [
    "where Subscribers = daily increase. The data comes from May 2019, where \n",
    "    \n",
    "    1 = May 1, \n",
    "    \n",
    "    2 = May 2, \n",
    "    \n",
    "    and so on."
   ]
  },
  {
   "cell_type": "code",
   "execution_count": 41,
   "metadata": {},
   "outputs": [
    {
     "name": "stdout",
     "output_type": "stream",
     "text": [
      "   Date\n",
      "0     1\n",
      "1     2\n",
      "2     3\n",
      "3     4\n",
      "4     5\n",
      "0    71915\n",
      "1    48270\n",
      "2    47746\n",
      "3    42276\n",
      "4    36867\n",
      "Name: Subscribers, dtype: int64\n"
     ]
    }
   ],
   "source": [
    "#split the dataset into feature and target matrix\n",
    "x = df.iloc[:,:-1]\n",
    "y = df.iloc[:, 1]\n",
    "print(x[:5])\n",
    "print(y[:5])"
   ]
  },
  {
   "cell_type": "code",
   "execution_count": 42,
   "metadata": {},
   "outputs": [],
   "source": [
    "#train test split; arbitrary test size of 0.3 (30%)\n",
    "x_train, x_test, y_train, y_test = train_test_split(x, y, test_size = 0.3, random_state = 0)"
   ]
  },
  {
   "cell_type": "code",
   "execution_count": 43,
   "metadata": {},
   "outputs": [
    {
     "data": {
      "text/html": [
       "<div>\n",
       "<style scoped>\n",
       "    .dataframe tbody tr th:only-of-type {\n",
       "        vertical-align: middle;\n",
       "    }\n",
       "\n",
       "    .dataframe tbody tr th {\n",
       "        vertical-align: top;\n",
       "    }\n",
       "\n",
       "    .dataframe thead th {\n",
       "        text-align: right;\n",
       "    }\n",
       "</style>\n",
       "<table border=\"1\" class=\"dataframe\">\n",
       "  <thead>\n",
       "    <tr style=\"text-align: right;\">\n",
       "      <th></th>\n",
       "      <th>0</th>\n",
       "    </tr>\n",
       "  </thead>\n",
       "  <tbody>\n",
       "    <tr>\n",
       "      <th>0</th>\n",
       "      <td>31042.0</td>\n",
       "    </tr>\n",
       "    <tr>\n",
       "      <th>1</th>\n",
       "      <td>47086.0</td>\n",
       "    </tr>\n",
       "    <tr>\n",
       "      <th>2</th>\n",
       "      <td>30098.0</td>\n",
       "    </tr>\n",
       "    <tr>\n",
       "      <th>3</th>\n",
       "      <td>40480.0</td>\n",
       "    </tr>\n",
       "    <tr>\n",
       "      <th>4</th>\n",
       "      <td>38592.0</td>\n",
       "    </tr>\n",
       "    <tr>\n",
       "      <th>5</th>\n",
       "      <td>31985.0</td>\n",
       "    </tr>\n",
       "  </tbody>\n",
       "</table>\n",
       "</div>"
      ],
      "text/plain": [
       "         0\n",
       "0  31042.0\n",
       "1  47086.0\n",
       "2  30098.0\n",
       "3  40480.0\n",
       "4  38592.0\n",
       "5  31985.0"
      ]
     },
     "execution_count": 43,
     "metadata": {},
     "output_type": "execute_result"
    }
   ],
   "source": [
    "#implement simple linear regression\n",
    "\n",
    "lr = LinearRegression()\n",
    "lr.fit(x_train, y_train)\n",
    "y_pred = lr.predict(x_test)\n",
    "predicted = pd.DataFrame(y_pred)\n",
    "\n",
    "#from sklearn.metrics import accuracy_score\n",
    "\n",
    "predicted.apply(np.round)"
   ]
  },
  {
   "cell_type": "code",
   "execution_count": 56,
   "metadata": {},
   "outputs": [
    {
     "name": "stdout",
     "output_type": "stream",
     "text": [
      "Increase in subscribers on May 21:\n",
      " 29154\n",
      "Increase in subscribers on May 22:\n",
      " 28210\n",
      "Increase in subscribers on May 23:\n",
      " 27266\n",
      "Increase in subscribers on May 24:\n",
      " 26322\n",
      "Increase in subscribers on May 25:\n",
      " 25378\n",
      "Increase in subscribers on May 26:\n",
      " 24434\n",
      "Increase in subscribers on May 27:\n",
      " 23491\n",
      "Increase in subscribers on May 28:\n",
      " 22547\n",
      "Increase in subscribers on May 29:\n",
      " 21603\n",
      "Increase in subscribers on May 30:\n",
      " 20659\n",
      "Increase in subscribers on May 31:\n",
      " 19715\n",
      "Total gain in subscribers through the \n",
      "end of May:  258397\n"
     ]
    }
   ],
   "source": [
    "#next day is May 21; how many subscribers will be gained by the end of the month?\n",
    "i = 21\n",
    "total = 0\n",
    "while i <= 31:\n",
    "    print(\"Increase in subscribers on May %d:\\n\" %(i) , int(lr.predict([[i]])))\n",
    "    i += 1\n",
    "    total += int(lr.predict([[i]]))\n",
    "\n",
    "print(\"Total gain in subscribers through the \\nend of May: \", total)"
   ]
  },
  {
   "cell_type": "code",
   "execution_count": 135,
   "metadata": {},
   "outputs": [
    {
     "data": {
      "image/png": "[encoded data removed]",
      "text/plain": [
       "<Figure size 432x288 with 1 Axes>"
      ]
     },
     "metadata": {},
     "output_type": "display_data"
    }
   ],
   "source": [
    "#plotting the predicted daily increase in subscribers\n",
    "plt.style.use(\"fivethirtyeight\")\n",
    "fig = plt.figure()\n",
    "ax = plt.axes()\n",
    "\n",
    "i=21\n",
    "while i <=31:\n",
    "    ax.scatter(i, lr.predict([[i]]))\n",
    "    i += 1\n",
    "ax.set_title(\"Predicted daily increase in subscribers\")\n",
    "ax.set_xlabel(\"Day in May\")\n",
    "ax.set_ylabel(\"Subscriber Gain\")\n",
    "\n",
    "ax.set_xticks(np.arange(21, 32, step = 1));\n",
    "ax.set_yticks(np.arange(20000, 30000, step = 1000));"
   ]
  },
  {
   "cell_type": "code",
   "execution_count": 134,
   "metadata": {},
   "outputs": [
    {
     "data": {
      "image/png": "[encoded data removed]",
      "text/plain": [
       "<Figure size 432x288 with 1 Axes>"
      ]
     },
     "metadata": {
      "needs_background": "light"
     },
     "output_type": "display_data"
    }
   ],
   "source": [
    "#plot the increase between the 21st and 31st\n",
    "fig = plt.figure()\n",
    "ax = plt.axes()\n",
    "\n",
    "days = np.arange(21, 32, step=1)\n",
    "days = pd.DataFrame(days)\n",
    "days['total'] = \"place\"\n",
    "days.columns = ['Date','Total']\n",
    "\n",
    "i = 21\n",
    "total = 0\n",
    "while i <= 31:\n",
    "    days[\"Total\"][i-21] = total + int(lr.predict([[i]]))\n",
    "    total = total + int(lr.predict([[i]]))\n",
    "    i += 1\n",
    "\n",
    "ax.plot(days[\"Date\"], days[\"Total\"])\n",
    "ax.set_title(\"Predicted Increase in Subscribers, May 21-31\")\n",
    "ax.set_xlabel(\"Day in May\")\n",
    "ax.set_ylabel(\"Subscriber Increase Total\")\n",
    "ax.set_xticks(np.arange(21, 31, step = 1));\n",
    "ax.set_yticks(np.arange(25000, 275000, step = 25000));"
   ]
  },
  {
   "cell_type": "markdown",
   "metadata": {},
   "source": [
    "PewDiePie's new subscriber rate was decreasing in May, 2019."
   ]
  },
  {
   "cell_type": "code",
   "execution_count": null,
   "metadata": {},
   "outputs": [],
   "source": []
  }
 ],
 "metadata": {
  "kernelspec": {
   "display_name": "Python 3",
   "language": "python",
   "name": "python3"
  },
  "language_info": {
   "codemirror_mode": {
    "name": "ipython",
    "version": 3
   },
   "file_extension": ".py",
   "mimetype": "text/x-python",
   "name": "python",
   "nbconvert_exporter": "python",
   "pygments_lexer": "ipython3",
   "version": "3.7.6"
  }
 },
 "nbformat": 4,
 "nbformat_minor": 4
}
